{
 "cells": [
  {
   "cell_type": "markdown",
   "id": "12f9b192",
   "metadata": {},
   "source": [
    "# BMI Calculator"
   ]
  },
  {
   "cell_type": "code",
   "execution_count": null,
   "id": "ecd67e5f",
   "metadata": {},
   "outputs": [],
   "source": [
    "# We know BMI = (weight in pounds x 703)/(height in inches x height in inches)"
   ]
  },
  {
   "cell_type": "code",
   "execution_count": 2,
   "id": "8fe0cd93",
   "metadata": {},
   "outputs": [
    {
     "name": "stdout",
     "output_type": "stream",
    }
   ],
   "source": [
    "name = input(\"Enter your name: \")\n",
    "\n",
    "weight = int(input(\"Enter your weight in pounds: \"))\n",
    "\n",
    "height = int(input(\"Enter your height in inches: \"))\n",
    "\n",
    "BMI = (weight*703)/(height*height)\n",
    "\n",
    "print(\"Your BMI is: \" + str(BMI))\n",
    "\n",
    "if BMI > 0:\n",
    "    if (BMI < 18.5):\n",
    "        print(name + \", you are underweight\")\n",
    "    elif(BMI <= 24.9):\n",
    "        print(name + \", you are normal weight\")\n",
    "    elif(BMI <= 29.9):\n",
    "        print(name + \", you are overweight\")\n",
    "    elif(BMI <= 34.9):\n",
    "        print(name + \", you are obese\")\n",
    "    elif(BMI <= 39.9):\n",
    "        print(name + \", you are severely obese\")\n",
    "    else:\n",
    "        print(name + \", you are morbidly obese\")\n",
    "else:\n",
    "    print(\"Enter valid inputs\")"
   ]
  },
  {
   "cell_type": "code",
   "execution_count": null,
   "id": "2fb6ed1a",
   "metadata": {},
   "outputs": [],
   "source": []
  }
 ],
 "metadata": {
  "kernelspec": {
   "display_name": "Python 3 (ipykernel)",
   "language": "python",
   "name": "python3"
  },
  "language_info": {
   "codemirror_mode": {
    "name": "ipython",
    "version": 3
   },
   "file_extension": ".py",
   "mimetype": "text/x-python",
   "name": "python",
   "nbconvert_exporter": "python",
   "pygments_lexer": "ipython3",
   "version": "3.10.9"
  }
 },
 "nbformat": 4,
 "nbformat_minor": 5
}
